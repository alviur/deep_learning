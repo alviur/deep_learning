{
 "cells": [
  {
   "cell_type": "markdown",
   "metadata": {},
   "source": [
    "## Librerias\n",
    "Primero se declaran las librerias, es importante configurar el path caffe_root para cada PC"
   ]
  },
  {
   "cell_type": "code",
   "execution_count": 1,
   "metadata": {
    "collapsed": false
   },
   "outputs": [],
   "source": [
    "import os\n",
    "os.chdir('..')\n",
    "import numpy as np\n",
    "import matplotlib.pyplot as plt\n",
    "%matplotlib inline\n",
    "\n",
    "\n",
    "import sys\n",
    "caffe_root = '/home/lex/caffe-master/'  # CONFIGURAR PARA CADA PC!!\n",
    "sys.path.append(\"/home/lex/caffe-master/python\")\n",
    "\n",
    "import caffe # Importa la libreria CAFFE"
   ]
  },
  {
   "cell_type": "markdown",
   "metadata": {},
   "source": [
    "## Archivos Prototxt\n",
    "\n",
    "Siempre que se vaya a entrenar usando CAFFE son necesarios 3 archivos:\n",
    "\n",
    "<ul>\n",
    "    <li> Archivo de entrenamiento que contiene la estructura de la red y las direcciones a los archivos de entrenamiento.\n",
    "    <li> Archivo solver, contiene los parametros del entrenamiento como tipo de solver (e.g SGD, ADAGRAD, etc), learning reate, etc.\n",
    "    <li> Archivo deploy, contiene la arquitectura de la red solamente, es usado para evaluar la red.\n",
    "    \n",
    "</ul>\n",
    "\n",
    "Exite una forma de crear estos archivos a traves de ipython, la siguiente seccion de codigo crea el archivo de entrenamiento:\n"
   ]
  },
  {
   "cell_type": "code",
   "execution_count": 16,
   "metadata": {
    "collapsed": false
   },
   "outputs": [],
   "source": [
    "from caffe import layers as L\n",
    "from caffe import params as P\n",
    "\n",
    "# Esta funcionThe version of the notebook server is 4.0.4 and is running on:\n",
    "# el numero de imagenes procesadas por lote\n",
    "def lenet(lmdb, batch_size):\n",
    "    \n",
    "    n = caffe.NetSpec()\n",
    "    n.data, n.label = L.Data(batch_size=batch_size, backend=P.Data.LMDB, source=lmdb,\n",
    "                             transform_param=dict(scale=1./255), ntop=2)\n",
    "    n.conv1 = L.Convolution(n.data, kernel_size=5, num_output=20, weight_filler=dict(type='xavier'))\n",
    "    n.pool1 = L.Pooling(n.conv1, kernel_size=2, stride=2, pool=P.Pooling.MAX)\n",
    "    n.conv2 = L.Convolution(n.pool1, kernel_size=5, num_output=50, weight_filler=dict(type='xavier'))\n",
    "    n.pool2 = L.Pooling(n.conv2, kernel_size=2, stride=2, pool=P.Pooling.MAX)\n",
    "    n.ip1 = L.InnerProduct(n.pool2, num_output=500, weight_filler=dict(type='xavier'))\n",
    "    n.relu1 = L.ReLU(n.ip1, in_place=True)\n",
    "    n.ip2 = L.InnerProduct(n.relu1, num_output=10, weight_filler=dict(type='xavier'))\n",
    "    n.loss = L.SoftmaxWithLoss(n.ip2, n.label)\n",
    "    return n.to_proto()\n",
    "    \n",
    "# Ahora escribimos los archivos prototxt, diciendoles donde van a quedar los archivos\n",
    "with open('/home/lex/2_SISTEMIC/9_Deep_Learning/3_Arquitecturas/Arq_1/python/lenet_auto_train.prototxt', 'w') as f:\n",
    "    f.write(str(lenet('/home/lex/caffe-master/examples/mnist/mnist_train_lmdb', 64)))\n",
    "    \n",
    "with open('/home/lex/2_SISTEMIC/9_Deep_Learning/3_Arquitecturas/Arq_1/python/lenet_auto_test.prototxt', 'w') as f:\n",
    "    f.write(str(lenet('/home/lex/caffe-master/examples/mnist/mnist_test_lmdb', 100)))\n",
    "    "
   ]
  },
  {
   "cell_type": "markdown",
   "metadata": {},
   "source": [
    "Una vez hechos los archivos .prototxt se pueden visualizar facilmente en ipython con:\n",
    "<code>\n",
    "    !cat /home/lex/2_SISTEMIC/9_Deep_Learning/3_Arquitecturas/Arq_1/Arc_1_train_val.prototxt\n",
    "    !cat /home/lex/2_SISTEMIC/9_Deep_Learning/3_Arquitecturas/Arq_1/Arc_1_solver.prototxt\n",
    "</code>"
   ]
  },
  {
   "cell_type": "markdown",
   "metadata": {},
   "source": [
    "## Configuración del modelo \n",
    "\n",
    "Primero debemos configurar nuestro PC, en caso de todo estar instalado de forma correcta podemos sin problemas elegir si entrenar con GPU o CPU, en este caso lo haremos con GPU a traves de las siguentes lineas"
   ]
  },
  {
   "cell_type": "code",
   "execution_count": 17,
   "metadata": {
    "collapsed": true
   },
   "outputs": [],
   "source": [
    "# Configuramos el hardware que usaremos para entrenar\n",
    "caffe.set_device(0)\n",
    "caffe.set_mode_gpu()"
   ]
  },
  {
   "cell_type": "markdown",
   "metadata": {},
   "source": [
    "En este caso usaremos un solver tipo Stocastic gradient descent(SGD)"
   ]
  },
  {
   "cell_type": "code",
   "execution_count": 18,
   "metadata": {
    "collapsed": true
   },
   "outputs": [],
   "source": [
    "# Elegimos el tipo de solver para la red\n",
    "solver = caffe.SGDSolver('/home/lex/2_SISTEMIC/9_Deep_Learning/3_Arquitecturas/Arq_1/Arc_1_solver.prototxt')"
   ]
  },
  {
   "cell_type": "markdown",
   "metadata": {},
   "source": [
    "## Entrenamiento\n",
    "\n",
    "En ipython podemos tener control de cada iteración que damos en el SGD lo cual nos permite grabar un log que nos informara como fue el entrenamiento, en la siguiente seccion de codigo se seleccionan parametros y entrena la red"
   ]
  },
  {
   "cell_type": "code",
   "execution_count": 22,
   "metadata": {
    "collapsed": false
   },
   "outputs": [
    {
     "name": "stdout",
     "output_type": "stream",
     "text": [
      "Iteration 0 testing...\n",
      "Iteration 25 testing...\n",
      "Iteration 50 testing...\n",
      "Iteration 75 testing...\n",
      "Iteration 100 testing...\n",
      "Iteration 125 testing...\n",
      "Iteration 150 testing...\n",
      "Iteration 175 testing...\n",
      "CPU times: user 4.9 s, sys: 932 ms, total: 5.84 s\n",
      "Wall time: 5.04 s\n"
     ]
    }
   ],
   "source": [
    "%%time \n",
    "niter = 200 # el SGD solo realizara 200 iteraciones\n",
    "test_interval = 25 # probaremos el conjunto de prueba cada 25 iteraciones\n",
    "\n",
    "# Aqui se crean las estructuras para alojar los datos de entrenamiento\n",
    "train_loss = np.zeros(niter) # guarda loss\n",
    "test_acc = np.zeros(int(np.ceil(niter / test_interval))) # guarda accuracy\n",
    "#gtalkoutput = np.np.ax2.set_ylabel('test accuracy')zeros((niter, 8, 10)) # guarda salida de la red\n",
    "\n",
    "# Main loop entrenamiento\n",
    "for it in range(niter):\n",
    "    solver.step(1)  # Se ejecuta q vez el SGD\n",
    "    \n",
    "    # guarda loss\n",
    "    train_loss[it] = solver.net.blobs['loss'].data\n",
    "    \n",
    "   \n",
    "    # Para correr  pruebas cada 25 iteraciones lo configuramos aca, CAFFE puede \n",
    "    # configurarse para hacerlo automaticamente si se desea.\n",
    "    if it % test_interval == 0:\n",
    "        print 'Iteration', it, 'testing...'\n",
    "        correct = 0\n",
    "        for test_it in range(100):\n",
    "            solver.test_nets[0].forward()\n",
    "            correct += sum(solver.test_nets[0].blobs['ip2'].data.argmax(1)\n",
    "                           == solver.test_nets[0].blobs['label'].data)\n",
    "        test_acc[it // test_interval] = correct / 1e4"
   ]
  },
  {
   "cell_type": "markdown",
   "metadata": {},
   "source": [
    "Ahora podemos visualozar los datos de entrenamiento con el siguiente codigo"
   ]
  },
  {
   "cell_type": "code",
   "execution_count": 23,
   "metadata": {
    "collapsed": false
   },
   "outputs": [
    {
     "data": {
      "text/plain": [
       "<matplotlib.text.Text at 0x7fbe0fd6fad0>"
      ]
     },
     "execution_count": 23,
     "metadata": {},
     "output_type": "execute_result"
    },
    {
     "data": {
      "image/png": "[encoded data removed]",
      "text/plain": [
       "<matplotlib.figure.Figure at 0x7fbe0fdbed90>"
      ]
     },
     "metadata": {},
     "output_type": "display_data"
    }
   ],
   "source": [
    "#Imprimimos el train error y el test accuracy\n",
    "_, ax1 = plt.subplots()\n",
    "ax2 = ax1.twinx()\n",
    "ax1.plot(np.arange(niter), train_loss)\n",
    "ax2.plot(test_interval * np.arange(len(test_acc)), test_acc, 'r')\n",
    "ax1.set_xlabel('iteration')\n",
    "ax1.set_ylabel('train loss')\n",
    "ax2.set_ylabel('test accuracy')lo realiza"
   ]
  }
 ],
 "metadata": {
  "kernelspec": {
   "display_name": "Python 2",
   "language": "python",
   "name": "python2"
  },
  "language_info": {
   "codemirror_mode": {
    "name": "ipython",
    "version": 2
   },
   "file_extension": ".py",
   "mimetype": "text/x-python",
   "name": "python",
   "nbconvert_exporter": "python",
   "pygments_lexer": "ipython2",
   "version": "2.7.9"
  }
 },
 "nbformat": 4,
 "nbformat_minor": 0
}
