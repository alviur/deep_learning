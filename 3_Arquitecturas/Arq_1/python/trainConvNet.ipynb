{
 "cells": [
  {
   "cell_type": "markdown",
   "metadata": {},
   "source": [
    "# Configuracion"
   ]
  },
  {
   "cell_type": "code",
   "execution_count": 2,
   "metadata": {
    "collapsed": true
   },
   "outputs": [],
   "source": [
    "import os\n",
    "os.chdir('..')\n",
    "import numpy as np\n",
    "import matplotlib.pyplot as plt\n",
    "%matplotlib inline\n",
    "\n",
    "\n",
    "import sys\n",
    "caffe_root = '/home/lex/caffe-master/'  # CONFIGURAR PARA CADA PC!!\n",
    "sys.path.append(\"/home/lex/caffe-master/python\")\n",
    "\n",
    "import caffe # Importa la libreria CAFFE"
   ]
  },
  {
   "cell_type": "code",
   "execution_count": 4,
   "metadata": {
    "collapsed": true
   },
   "outputs": [],
   "source": [
    "# Elegimos el tipo de solver para la red\n",
    "solver = caffe.SGDSolver('/home/lex/2_SISTEMIC/9_Deep_Learning/3_Arquitecturas/Arq_1/Arc_1_solver.prototxt')"
   ]
  },
  {
   "cell_type": "code",
   "execution_count": 3,
   "metadata": {
    "collapsed": true
   },
   "outputs": [],
   "source": [
    "# Configuramos el hardware que usaremos para entrenar\n",
    "caffe.set_device(0)\n",
    "caffe.set_mode_gpu()"
   ]
  },
  {
   "cell_type": "markdown",
   "metadata": {},
   "source": [
    "# Entrenamiento"
   ]
  },
  {
   "cell_type": "code",
   "execution_count": 9,
   "metadata": {
    "collapsed": false
   },
   "outputs": [
    {
     "name": "stdout",
     "output_type": "stream",
     "text": [
      "Iteration 0 testing...\n",
      "Iteration 25 testing...\n",
      "Iteration 50 testing...\n",
      "Iteration 75 testing...\n",
      "Iteration 100 testing...\n",
      "Iteration 125 testing...\n",
      "Iteration 150 testing...\n",
      "Iteration 175 testing...\n",
      "CPU times: user 5.03 s, sys: 764 ms, total: 5.79 s\n",
      "Wall time: 5.31 s\n"
     ]
    }
   ],
   "source": [
    "%%time \n",
    "niter = 200 # el SGD solo realizara 200 iteraciones\n",
    "test_interval = 25 # probaremos el conjunto de prueba cada 25 iteraciones\n",
    "\n",
    "# Aqui se crean las estructuras para alojar los datos de entrenamiento\n",
    "train_loss = np.zeros(niter) # guarda loss\n",
    "test_acc = np.zeros(int(np.ceil(niter / test_interval))) # guarda accuracy\n",
    "#output = np.zeros((niter, 8, 10)) # guarda salida de la red\n",
    "\n",
    "# Main loop entrenamiento\n",
    "for it in range(niter):\n",
    "    solver.step(1)  # Se ejecuta q vez el SGD\n",
    "    \n",
    "    # guarda loss\n",
    "    train_loss[it] = solver.net.blobs['loss'].data\n",
    "    \n",
    "   \n",
    "    # Para correr  pruebas cada 25 iteraciones lo configuramos aca, CAFFE puede \n",
    "    # configurarse para hacerlo automaticamente si se desea.\n",
    "    if it % test_interval == 0:\n",
    "        print 'Iteration', it, 'testing...'\n",
    "        correct = 0\n",
    "        for test_it in range(100):\n",
    "            solver.test_nets[0].forward()\n",
    "            correct += sum(solver.test_nets[0].blobs['ip2'].data.argmax(1)\n",
    "                           == solver.test_nets[0].blobs['label'].data)\n",
    "        test_acc[it // test_interval] = correct / 1e4# Aqui se carga el modelo preentrenado\n",
    "MODEL_FILE = '/home/lex/2_SISTEMIC/9_Deep_Learning/3_Arquitecturas/Arq_1/Arc_1_deploy.prototxt'\n",
    "PRETRAINED = '/home/lex/2_SISTEMIC/9_Deep_Learning/3_Arquitecturas/Arq_1/snapshots_iter_10000.caffemodel'"
   ]
  },
  {
   "cell_type": "code",
   "execution_count": 12,
   "metadata": {
    "collapsed": false
   },
   "outputs": [
    {
     "data": {
      "text/plain": [
       "<matplotlib.text.Text at 0x7f4fea91d4d0>"
      ]
     },
     "execution_count": 12,
     "metadata": {},
     "output_type": "execute_result"
    },
    {
     "data": {
      "image/png": "[encoded data removed]",
      "text/plain": [
       "<matplotlib.figure.Figure at 0x7f4feaa11710>"
      ]
     },
     "metadata": {},
     "output_type": "display_data"
    }
   ],
   "source": [
    "#Mostramos el train error y el test accuracy\n",
    "_, ax1 = plt.subplots()\n",
    "ax2 = ax1.twinx()\n",
    "ax1.plot(np.arange(niter), train_loss)\n",
    "ax2.plot(test_interval * np.arange(len(test_acc)), test_acc, 'r')\n",
    "ax1.set_xlabel('iteration')\n",
    "ax1.set_ylabel('train loss')# Aqui se carga el modelo preentrenado\n",
    "MODEL_FILE = '/home/lex/2_SISTEMIC/9_Deep_Learning/3_Arquitecturas/Arq_1/Arc_1_deploy.prototxt'\n",
    "PRETRAIN# Aqui se carga el modelo preentrenado\n",
    "MODEL_FILE = '/home/lex/2_SISTEMIC/9_Deep_Learning/3_Arquitecturas/Arq_1/Arc_1_deploy.prototxt'\n",
    "PRETRAINED = '/home/lex/2_SISTEMIC/9_Deep_Learning/3_Arquitecturas/Arq_1/snapshots_iter_10000.caffemodel'# Aqui se carga el modelo preentrenado\n",
    "MODEL_FILE = '/home/lex/2_SISTEMIC/9_Deep_Learning/3_Arquitecturas/Arq_1/Arc_1_deploy.prototxt'\n",
    "PRETRAINED = '/home/lex/2_SISTEMIC/9_Deep_Learning/3_Arquitecturas/Arq_1/snapshots_iter_10000.caffemodel'ED = '/home/lex/2_SISTEMIC/9_Deep_Learning/3_Arquitecturas/Arq_1/snapshots_iter_10000.caffemodel'\n",
    "ax2.set_ylabel('test accuracy')"
   ]
  },
  {
   "cell_type": "markdown",
   "metadata": {},
   "source": [
    "# VALIDACION"
   ]
  },
  {
   "cell_type": "code",
   "execution_count": 3,
   "metadata": {
    "collapsed": true
   },
   "outputs": [],
   "source": [
    "# Aqui se carga el modelo preentrenado\n",
    "MODEL_FILE = '/home/lex/2_SISTEMIC/9_Deep_Learning/3_Arquitecturas/Arq_1/Arc_1_deploy.prototxt'\n",
    "PRETRAINED = '/home/lex/2_SISTEMIC/9_Deep_Learning/3_Arquitecturas/Arq_1/snapshots/_iter_100.caffemodel'"
   ]
  },
  {
   "cell_type": "code",
   "execution_count": 4,
   "metadata": {
    "collapsed": false
   },
   "outputs": [],
   "source": [
    "# Crea la red\n",
    "\n",
    "\n",
    "caffe.set_mode_cpu()\n",
    "net = caffe.Net(MODEL_FILE,PRETRAINED,caffe.TEST)\n",
    "\n",
    "#net = caffe.Classifier(MODEL_FILE,PRETRAINED)"
   ]
  }
 ],
 "metadata": {
  "kernelspec": {
   "display_name": "Python 2",
   "language": "python",
   "name": "python2"
  },
  "language_info": {
   "codemirror_mode": {
    "name": "ipython",
    "version": 2
   },
   "file_extension": ".py",
   "mimetype": "text/x-python",
   "name": "python",
   "nbconvert_exporter": "python",
   "pygments_lexer": "ipython2",
   "version": "2.7.9"
  }
 },
 "nbformat": 4,
 "nbformat_minor": 0
}
