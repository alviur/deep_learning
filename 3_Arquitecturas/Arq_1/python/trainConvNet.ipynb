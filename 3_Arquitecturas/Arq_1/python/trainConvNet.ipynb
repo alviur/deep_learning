{
 "cells": [
  {
   "cell_type": "markdown",
   "metadata": {},
   "source": [
    "# Configuracion"
   ]
  },
  {
   "cell_type": "code",
   "execution_count": 1,
   "metadata": {
    "collapsed": true
   },
   "outputs": [],
   "source": [
    "import os, struct, os.path\n",
    "import Image\n",
    "from array import array as pyarray\n",
    "from numpy import append, array, int8, uint8, zeros\n",
    "os.chdir('..')\n",
    "import numpy as np\n",
    "import matplotlib.pyplot as plt\n",
    "%matplotlib inline\n",
    "\n",
    "\n",
    "import sys\n",
    "caffe_root = '/home/lex/caffe-master/'  # CONFIGURAR PARA CADA PC!!\n",
    "sys.path.append(\"/home/lex/caffe-master/python\")\n",
    "\n",
    "import caffe # Importa la libreria CAFFE"
   ]
  },
  {
   "cell_type": "code",
   "execution_count": 3,
   "metadata": {
    "collapsed": true
   },
   "outputs": [],
   "source": [
    "# Elegimos el tipo de solver para la red\n",
    "solver = caffe.SGDSolver('/home/lex/2_SISTEMIC/9_Deep_Learning/3_Arquitecturas/Arq_1/Arc_1_solver.prototxt')"
   ]
  },
  {
   "cell_type": "code",
   "execution_count": 4,
   "metadata": {
    "collapsed": true
   },
   "outputs": [],
   "source": [
    "# Configuramos el hardware que usaremos para entrenar\n",
    "caffe.set_device(0)\n",
    "caffe.set_mode_gpu()"
   ]
  },
  {
   "cell_type": "markdown",
   "metadata": {},
   "source": [
    "# Entrenamiento"
   ]
  },
  {
   "cell_type": "code",
   "execution_count": 5,
   "metadata": {
    "collapsed": false,
    "scrolled": true
   },
   "outputs": [
    {
     "name": "stdout",
     "output_type": "stream",
     "text": [
      "Iteration 0 testing...\n",
      "Iteration 25 testing...\n",
      "Iteration 50 testing...\n",
      "Iteration 75 testing...\n",
      "Iteration 100 testing...\n",
      "Iteration 125 testing...\n",
      "Iteration 150 testing...\n",
      "Iteration 175 testing...\n",
      "CPU times: user 5.94 s, sys: 868 ms, total: 6.8 s\n",
      "Wall time: 6.41 s\n"
     ]
    }
   ],
   "source": [
    "%%time \n",
    "niter = 200 # el SGD solo realizara 200 iteraciones\n",
    "test_interval = 25 # probaremos el conjunto de prueba cada 25 iteraciones\n",
    "\n",
    "# Aqui se crean las estructuras para alojar los datos de entrenamiento\n",
    "train_loss = np.zeros(niter) # guarda loss\n",
    "test_acc = np.zeros(int(np.ceil(niter / test_interval))) # guarda accuracy\n",
    "#output = np.zeros((niter, 8, 10)) # guarda salida de la red\n",
    "\n",
    "# Main loop entrenamiento\n",
    "for it in range(niter):for it in range(niter):for it in range(niter):\n",
    "    solver.step(1)  # Se ejecuta q vez el SGD\n",
    "    \n",
    "    # guarda loss\n",
    "    train_loss[it] = solver.net.blobs['loss'].data\n",
    "    \n",
    "   \n",
    "    # Para correr  pruebas cada 25 iteraciones lo configuramos aca, CAFFE puede \n",
    "    # configurarse para hacerlo automaticamente si se desea.\n",
    "    if it % test_interval == 0:\n",
    "        print 'Iteration', it, 'testing...'\n",
    "        correct = 0\n",
    "        for test_it in range(100):\n",
    "            solver.test_nets[0].forward()\n",
    "            correct += sum(solver.test_nets[0].blobs['ip2'].data.argmax(1)\n",
    "                           == solver.test_nets[0].blobs['label'].data)\n",
    "        test_acc[it // test_interval] = correct / 1e4# Aqui se carga el modelo preentrenado\n"
   ]
  },
  {
   "cell_type": "code",
   "execution_count": 6,
   "metadata": {
    "collapsed": false,
    "scrolled": true
   },
   "outputs": [
    {
     "data": {
      "text/plain": [
       "<matplotlib.text.Text at 0x7f05a3a2acd0>"
      ]
     },
     "execution_count": 6,
     "metadata": {},
     "output_type": "execute_result"
    },
    {
     "data": {
      "image/png": "[encoded data removed]",
      "text/plain": [
       "<matplotlib.figure.Figure at 0x7f05a3f31910>"
      ]
     },
     "metadata": {},
     "output_type": "display_data"
    }
   ],
   "source": [
    "#Mostramos el train error y el test accuracy\n",
    "_, ax1 = plt.subplots()\n",
    "ax2 = ax1.twinx()\n",
    "ax1.plot(np.arange(niter), train_loss)\n",
    "ax2.plot(test_interval * np.arange(len(test_acc)), test_acc, 'r')\n",
    "ax1.set_xlabel('iteration')\n",
    "ax1.set_ylabel('train loss')# Aqui se carga el modelo preentrenado\n",
    "ax2.set_ylabel('test accuracy')"
   ]
  },
  {
   "cell_type": "markdown",
   "metadata": {},
   "source": [
    "# VALIDACION"
   ]
  },
  {
   "cell_type": "code",
   "execution_count": 2,
   "metadata": {
    "collapsed": false
   },
   "outputs": [],
   "source": [
    "MODEL_FILE = '/home/lex/2_SISTEMIC/9_Deep_Learning/3_Arquitecturas/Arq_1/Arc_1_deploy.prototxt'\n",
    "PRETRAINED = '/home/lex/2_SISTEMIC/9_Deep_Learning/3_Arquitecturas/Arq_1/snapshots/_iter_100.caffemodel'"
   ]
  },
  {
   "cell_type": "code",
   "execution_count": 4,
   "metadata": {
    "collapsed": false
   },
   "outputs": [],
   "source": [
    "# Crea la redfor it in images:\n",
    "\n",
    "caffe.set_mode_cpu()\n",
    "#net = caffe.Net(MODEL_FILE,PRETRAINED,caffe.TEST)\n",
    "\n",
    "net = caffe.Classifier(MODEL_FILE,PRETRAINED,channel_swap='0')"
   ]
  },
  {
   "cell_type": "code",
   "execution_count": 6,
   "metadata": {
    "collapsed": false,
    "scrolled": true
   },
   "outputs": [
    {
     "name": "stdout",
     "output_type": "stream",
     "text": [
      "Error de prueba: 0.1649\n"
     ]
    }
   ],
   "source": [
    "#images, labels = load_mnist('testing', digits=[2],path='/home/lex/caffe-master/data/mnist/')\n",
    "\n",
    "error=0\n",
    "totalFiles=0\n",
    "for it in range(10):\n",
    "    it\n",
    "    path = '/home/lex/2_SISTEMIC/9_Deep_Learning/1_Datasets/2_MNIST/testing/'+str(it)+'/'\n",
    "    num_files = sum(os.path.isfile(os.path.join(path, f)) for f in os.listdir(path))\n",
    "    totalFiles=totalFiles+num_files\n",
    "    for it2 in range(num_files):\n",
    "        IMAGE_FILE = path + str(it2) + '.png'# Path de la imagen\n",
    "        input_image = caffe.io.load_image(IMAGE_FILE,False)#carga una imagen en el modelo\n",
    "        prediction = net.predict([input_image]) \n",
    "        \n",
    "        if prediction[0].argmax()!=it:\n",
    "            error=error+1\n",
    "            \n",
    "\n",
    "from __future__ import division\n",
    "print 'Error de prueba:',(error/totalFiles)*100,'%'    "
   ]
  },
  {
   "cell_type": "code",
   "execution_count": 9,
   "metadata": {
    "collapsed": false
   },
   "outputs": [
    {
     "name": "stdout",
     "output_type": "stream",
     "text": [
      "[[2 0 0]\n",
      " [0 0 1]\n",
      " [1 0 2]]\n"
     ]
    },
    {
     "data": {
      "image/png": "[encoded data removed]",
      "text/plain": [
       "<matplotlib.figure.Figure at 0x7f707d197290>"
      ]
     },
     "metadata": {},
     "output_type": "display_data"
    }
   ],
   "source": [
    " from sklearn.metrics import confusion_matrix\n",
    " y_true = [2, 0, 2, 2, 0, 1]\n",
    " y_pred = [0, 0, 2, 2, 0, 2]\n",
    " cm=confusion_matrix(y_true, y_pred)\n",
    "\n",
    "\n",
    "print(cm)\n",
    "\n",
    "# Show confusion matrix in a separate window\n",
    "plt.matshow(cm)\n",
    "plt.title('Confusion matrix')\n",
    "plt.colorbar()\n",
    "plt.ylabel('True label')\n",
    "plt.xlabel('Predicted label')\n",
    "plt.show()"
   ]
  }
 ],
 "metadata": {
  "kernelspec": {
   "display_name": "Python 2",
   "language": "python",
   "name": "python2"
  },
  "language_info": {
   "codemirror_mode": {
    "name": "ipython",
    "version": 2
   },
   "file_extension": ".py",
   "mimetype": "text/x-python",
   "name": "python",
   "nbconvert_exporter": "python",
   "pygments_lexer": "ipython2",
   "version": "2.7.9"
  }
 },
 "nbformat": 4,
 "nbformat_minor": 0
}
