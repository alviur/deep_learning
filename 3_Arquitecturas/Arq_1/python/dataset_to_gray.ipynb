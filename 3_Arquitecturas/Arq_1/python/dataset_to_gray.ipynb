{
 "cells": [
  {
   "cell_type": "code",
   "execution_count": 2,
   "metadata": {
    "collapsed": false
   },
   "outputs": [],
   "source": [
    "import os, struct\n",
    "import Image\n",
    "from array import array as pyarray\n",
    "from numpy import append, array, int8, uint8, zeros\n",
    "os.chdir('..')\n",
    "import numpy as np\n",
    "import matplotlib.pyplot as plt\n",
    "%matplotlib inline\n",
    "\n",
    "\n",
    "import sys\n"
   ]
  },
  {
   "cell_type": "code",
   "execution_count": 6,
   "metadata": {
    "collapsed": false
   },
   "outputs": [],
   "source": [
    "for it in range(3):\n",
    "    it\n",
    "    path = '/home/lex/2_SISTEMIC/1_Proyecto_Microalgas/1_Algorithms/2_Caffe/testing/'+str(it)+'/'\n",
    "    path2 = '/home/lex/2_SISTEMIC/1_Proyecto_Microalgas/1_Algorithms/2_Caffe/testing/testGray/'+str(it)+'/'\n",
    "    num_files = sum(os.path.isfile(os.path.join(path, f)) for f in os.listdir(path))\n",
    "    for it2 in range(num_files):\n",
    "        IMAGE_FILE = path + str(it2) + '.jpg'# Path de la imagen\n",
    "        IMAGE_FILE2 = path2 + str(it2) + '.png'# Path de la imagen\n",
    "        if os.path.isfile(IMAGE_FILE) :        \n",
    "            img = Image.open(IMAGE_FILE).convert('LA')\n",
    "            img.save(IMAGE_FILE2)\n",
    "        \n"
   ]
  }
 ],
 "metadata": {
  "kernelspec": {
   "display_name": "Python 2",
   "language": "python",
   "name": "python2"
  },
  "language_info": {
   "codemirror_mode": {
    "name": "ipython",
    "version": 2
   },
   "file_extension": ".py",
   "mimetype": "text/x-python",
   "name": "python",
   "nbconvert_exporter": "python",
   "pygments_lexer": "ipython2",
   "version": "2.7.9"
  }
 },
 "nbformat": 4,
 "nbformat_minor": 0
}
